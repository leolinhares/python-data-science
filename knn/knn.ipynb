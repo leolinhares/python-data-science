{
 "cells": [
  {
   "cell_type": "markdown",
   "metadata": {},
   "source": [
    "## K-nearest Neighbours\n",
    "\n",
    "O programa abaixo executa o knn para o dataset haberman.data localizado na mesma pasta do script python. Quando executado, o programa perguntará o valor desejado de k e após o usuário apertar enter o programa exibirá o score do knn implementado e depois o score do SKLEARN para comparação."
   ]
  },
  {
   "cell_type": "code",
   "execution_count": 7,
   "metadata": {
    "collapsed": false
   },
   "outputs": [
    {
     "name": "stdout",
     "output_type": "stream",
     "text": [
      "Enter the number of neighbours:5\n",
      "\n",
      "\n",
      "Leo's KNN implementation score:\n",
      "0.739130434783\n",
      "\n",
      "\n",
      "SKLEARN's KNN implementation score:\n",
      "0.728260869565\n"
     ]
    }
   ],
   "source": [
    "import numpy as np\n",
    "import math\n",
    "import heapq\n",
    "from sklearn.neighbors import KNeighborsClassifier\n",
    "\n",
    "\n",
    "class KNeighbors():\n",
    "\n",
    "    def __init__(self, number_of_neighbors):\n",
    "        self.k = number_of_neighbors\n",
    "        self.predictions = []\n",
    "\n",
    "    def fit(self, training_features, training_labels):\n",
    "        self.X = training_features\n",
    "        self.y = training_labels\n",
    "\n",
    "    # Euclidian distance between two arrays\n",
    "    def euclidianDistance(self, array1, array2):\n",
    "        distance = [(x - y) ** 2 for x, y in zip(array1, array2)]\n",
    "        distance = math.sqrt(sum(distance))\n",
    "        return distance\n",
    "\n",
    "    # Get the predictions of the k nearest neighbours\n",
    "    def predict(self, test_features):\n",
    "        self.predictions = []\n",
    "        for i, instance in enumerate(test_features):\n",
    "            neighbours = self.getNeighbours(instance, self.X, self.y, self.k)\n",
    "            prediction = self.vote(neighbours)\n",
    "            self.predictions.append(prediction)\n",
    "        return self.predictions\n",
    "\n",
    "    # Get the k nearest neighbours of an instance\n",
    "    def getNeighbours(self, instance, training_features, training_labels, k):\n",
    "        distanceList = []\n",
    "        size, columns = training_features.shape\n",
    "        for i in xrange(size):\n",
    "            # calculating the distance between the instance and each element of the trainingSet.\n",
    "            # The distance measure does not include the label.\n",
    "            distanceList.append(\n",
    "                (\n",
    "                    self.euclidianDistance(instance, training_features[i]),\n",
    "                    np.append(training_features[i],training_labels[i])))\n",
    "\n",
    "        # getting the k smallest neighbours of the instance\n",
    "        result = heapq.nsmallest(k, distanceList, key=lambda x: x[0])\n",
    "        _, neighbours = zip(*result)\n",
    "        return neighbours\n",
    "\n",
    "    def vote(self, neighbours):\n",
    "        votes = []\n",
    "        for neighbour in neighbours:\n",
    "            votes.append(neighbour[-1])\n",
    "        return max(set(votes), key=votes.count)\n",
    "\n",
    "    def score(self, test_features, test_labels):\n",
    "        p = self.predict(test_features)\n",
    "        equalValues = np.sum(p == test_labels)\n",
    "        return float(equalValues) / float(len(test_labels))\n",
    "\n",
    "\n",
    "def prepareData():\n",
    "    data = np.loadtxt(\"haberman.data\", delimiter=\",\")\n",
    "    ndata = np.random.permutation(data)\n",
    "    size, features = ndata.shape\n",
    "    nt = int(math.floor(size * 0.7))\n",
    "\n",
    "    training_features = ndata[0:nt, 0:features-1]\n",
    "    training_labels = ndata[0:nt, -1]\n",
    "    test_features = ndata[nt:size, 0:features-1]\n",
    "    test_labels = ndata[nt:size, -1]\n",
    "\n",
    "    return training_features, training_labels, test_features, test_labels\n",
    "\n",
    "\n",
    "def main():\n",
    "    training_features, training_labels, test_features, test_labels = prepareData()\n",
    "\n",
    "    k = input(\"Enter the number of neighbours:\")\n",
    "    print \"\\n\"\n",
    "\n",
    "    knn = KNeighbors(number_of_neighbors=k)\n",
    "    knn.fit(training_features, training_labels)\n",
    "    knn.predict(test_features)\n",
    "    print \"Leo's KNN implementation score:\"\n",
    "    print knn.score(test_features, test_labels)\n",
    "    print \"\\n\"\n",
    "\n",
    "    wknn3 = KNeighborsClassifier(n_neighbors=k, algorithm='brute')\n",
    "    wknn3.fit(training_features, training_labels)\n",
    "    wknn3.predict(test_features)\n",
    "    print \"SKLEARN's KNN implementation score:\"\n",
    "    print wknn3.score(test_features, test_labels)\n",
    "\n",
    "\n",
    "if __name__ == \"__main__\":\n",
    "    main()\n"
   ]
  },
  {
   "cell_type": "code",
   "execution_count": null,
   "metadata": {
    "collapsed": true
   },
   "outputs": [],
   "source": []
  }
 ],
 "metadata": {
  "kernelspec": {
   "display_name": "Python 2",
   "language": "python",
   "name": "python2"
  },
  "language_info": {
   "codemirror_mode": {
    "name": "ipython",
    "version": 2
   },
   "file_extension": ".py",
   "mimetype": "text/x-python",
   "name": "python",
   "nbconvert_exporter": "python",
   "pygments_lexer": "ipython2",
   "version": "2.7.8"
  }
 },
 "nbformat": 4,
 "nbformat_minor": 1
}
