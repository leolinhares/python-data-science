{
 "cells": [
  {
   "cell_type": "code",
   "execution_count": null,
   "metadata": {
    "collapsed": false,
    "scrolled": false
   },
   "outputs": [],
   "source": [
    "import numpy as np\n",
    "import math\n",
    "from sklearn.metrics.pairwise import cosine_similarity\n",
    "from scipy.sparse import csr_matrix\n",
    "\n",
    "def read_file(filename):\n",
    "    users = []\n",
    "    news = []\n",
    "    with open(filename, 'r') as f:\n",
    "        data = f.readlines()\n",
    "        for row in data:\n",
    "            user, item = row.strip('\\n').split('|')\n",
    "            users.append(user)\n",
    "            news.append(item)\n",
    "    return users, news\n",
    "\n",
    "\n",
    "def create_dictionary(users, news):\n",
    "    users_dict = {}\n",
    "    for user, item in zip(users, news):\n",
    "        if user not in users_dict:\n",
    "            users_dict[user] = list()\n",
    "        users_dict[user].append(item)\n",
    "    return users_dict\n",
    "\n",
    "def make_user_interest_vector(user_interests):\n",
    "    return [1 if interest in user_interests else 0 for interest in unique_interests]\n",
    "\n",
    "\n",
    "users, news = read_file('viewed_news.csv')\n",
    "users_interests = create_dictionary(users, news)\n",
    "unique_interests = sorted(set(news))\n",
    "\n",
    "index = 0\n",
    "user_index = {}\n",
    "matrix_of_interests = []\n",
    "for user, value in users_interests.items():\n",
    "    user_index[index]=user\n",
    "    index += 1\n",
    "    matrix_of_interests.append(value)\n",
    "    \n",
    "\n",
    "\n",
    "user_interest_matrix = map(make_user_interest_vector, matrix_of_interests)\n",
    "\n",
    "user_similarity = cosine_similarity(csr_matrix(user_interest_matrix), dense_output=False)"
   ]
  },
  {
   "cell_type": "code",
   "execution_count": null,
   "metadata": {
    "collapsed": false,
    "scrolled": true
   },
   "outputs": [],
   "source": [
    "import scipy\n",
    "\n",
    "def most_similar_users_to(user):\n",
    "    pairs = []\n",
    "    \n",
    "    cx = scipy.sparse.coo_matrix(user_similarity[user,:])\n",
    "    \n",
    "    for user_id, similarity in zip(cx.col, cx.data):\n",
    "        if user_id != user and similarity > 0:\n",
    "            pairs.append((user_id, similarity))\n",
    "            \n",
    "    return sorted(pairs, key=lambda elem: elem[1], reverse=True)\n",
    "\n",
    "# print(most_similar_users_to(1))"
   ]
  },
  {
   "cell_type": "code",
   "execution_count": null,
   "metadata": {
    "collapsed": false
   },
   "outputs": [],
   "source": [
    "def user_based_suggestions(user):\n",
    "    suggestions = {}\n",
    "    for user_id, similarity in most_similar_users_to(user):\n",
    "        index = user_index[user_id]\n",
    "        news = users_interests[index]\n",
    "        for interest in news:\n",
    "            if suggestions.has_key(interest):\n",
    "                suggestions[interest] = suggestions.get(interest) + similarity\n",
    "            else:\n",
    "                suggestions[interest] = similarity\n",
    "                \n",
    "    suggestions = sorted(suggestions.items(), key=lambda x: x[1], reverse=True)\n",
    "    final_suggestions = []\n",
    "    index_user = user_index[user]\n",
    "    \n",
    "    for a in suggestions:\n",
    "        if a not in users_interests[index_user]:\n",
    "            final_suggestions.append(a)\n",
    "    \n",
    "    print(len(final_suggestions))\n",
    "    return final_suggestions\n",
    "user_based_suggestions(1)"
   ]
  },
  {
   "cell_type": "code",
   "execution_count": null,
   "metadata": {
    "collapsed": true
   },
   "outputs": [],
   "source": []
  }
 ],
 "metadata": {
  "kernelspec": {
   "display_name": "Python 2",
   "language": "python",
   "name": "python2"
  },
  "language_info": {
   "codemirror_mode": {
    "name": "ipython",
    "version": 2
   },
   "file_extension": ".py",
   "mimetype": "text/x-python",
   "name": "python",
   "nbconvert_exporter": "python",
   "pygments_lexer": "ipython2",
   "version": "2.7.8"
  }
 },
 "nbformat": 4,
 "nbformat_minor": 1
}
