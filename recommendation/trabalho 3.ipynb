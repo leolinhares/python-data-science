{
 "cells": [
  {
   "cell_type": "markdown",
   "metadata": {},
   "source": [
    "# Recommendation System"
   ]
  },
  {
   "cell_type": "markdown",
   "metadata": {},
   "source": [
    "## Instructions \n",
    "\n",
    "1. Run all cells\n",
    "2. The precision index will be printed in the last cell"
   ]
  },
  {
   "cell_type": "markdown",
   "metadata": {},
   "source": [
    "## Details\n",
    "\n",
    "1. Cossine Similarity measure\n",
    "2. User-item Colaborative filtering\n",
    "3. Outliers are not removed"
   ]
  },
  {
   "cell_type": "markdown",
   "metadata": {},
   "source": [
    "### Reading dataset to create a list of users and a list of news"
   ]
  },
  {
   "cell_type": "code",
   "execution_count": 103,
   "metadata": {
    "collapsed": true
   },
   "outputs": [],
   "source": [
    "import numpy as np\n",
    "import math\n",
    "from sklearn.metrics.pairwise import cosine_similarity\n",
    "from scipy.sparse import csr_matrix\n",
    "import scipy\n",
    "from random import shuffle\n",
    "\n",
    "\n",
    "def read_file(filename):\n",
    "    users = []\n",
    "    news = []\n",
    "    with open(filename, 'r') as f:\n",
    "        data = f.readlines()\n",
    "        for row in data:\n",
    "            user, item = row.strip('\\n').split('|')\n",
    "            users.append(user)\n",
    "            news.append(item)\n",
    "    return users, news\n",
    "\n",
    "users, news = read_file('viewed_news.csv')"
   ]
  },
  {
   "cell_type": "markdown",
   "metadata": {},
   "source": [
    "#### Create a dictionary where the key is the user_id and the value is a list of all news read by the user"
   ]
  },
  {
   "cell_type": "code",
   "execution_count": 104,
   "metadata": {
    "collapsed": false
   },
   "outputs": [],
   "source": [
    "def create_dictionary(users, news):\n",
    "    users_dict = {}\n",
    "    for user, item in zip(users, news):\n",
    "        if user not in users_dict:\n",
    "            users_dict[user] = list()  \n",
    "        users_dict[user].append(item)    \n",
    "    return users_dict\n",
    "\n",
    "users_interests = create_dictionary(users, news)\n",
    "unique_interests = sorted(set(news))"
   ]
  },
  {
   "cell_type": "markdown",
   "metadata": {},
   "source": [
    "#### Split news between train and test"
   ]
  },
  {
   "cell_type": "code",
   "execution_count": 105,
   "metadata": {
    "collapsed": false
   },
   "outputs": [],
   "source": [
    "users_interests_train = {}\n",
    "users_interests_test = {}\n",
    "\n",
    "for user, news_list in users_interests.items():\n",
    "    size = len(news_list)\n",
    "    shuffle(news_list)\n",
    "    nt = int(math.floor(size * (2.0/3.0)))\n",
    "    users_interests_train[user]=news_list[0:nt]\n",
    "    users_interests_test[user]=news_list[nt:]\n",
    "\n",
    "# print users_interests_train['556f426b1700003500aac7f5']\n",
    "# print users_interests_test['556f426b1700003500aac7f5']\n"
   ]
  },
  {
   "cell_type": "markdown",
   "metadata": {},
   "source": [
    "#### Create a matrix of user similarity"
   ]
  },
  {
   "cell_type": "code",
   "execution_count": 106,
   "metadata": {
    "collapsed": true
   },
   "outputs": [],
   "source": [
    "def make_user_interest_vector(user_interests):\n",
    "    return [1 if interest in user_interests else 0 for interest in unique_interests]\n",
    "\n",
    "index = 0\n",
    "user_index = {}\n",
    "matrix_of_interests = []\n",
    "for user, value in users_interests_train.items():\n",
    "    user_index[index]=user\n",
    "    index += 1\n",
    "    matrix_of_interests.append(value)\n",
    "    \n",
    "user_interest_matrix = map(make_user_interest_vector, matrix_of_interests)\n",
    "user_similarity = cosine_similarity(csr_matrix(user_interest_matrix), dense_output=False)"
   ]
  },
  {
   "cell_type": "markdown",
   "metadata": {},
   "source": [
    "#### Method to list the most similar users of a given user"
   ]
  },
  {
   "cell_type": "code",
   "execution_count": 107,
   "metadata": {
    "collapsed": false,
    "scrolled": true
   },
   "outputs": [],
   "source": [
    "def most_similar_users_to(user):\n",
    "    pairs = []\n",
    "    \n",
    "    cx = scipy.sparse.coo_matrix(user_similarity[user,:])\n",
    "    \n",
    "    for user_id, similarity in zip(cx.col, cx.data):\n",
    "        if user_id != user and similarity > 0:\n",
    "            pairs.append((user_id, similarity))\n",
    "            \n",
    "    return sorted(pairs, key=lambda elem: elem[1], reverse=True)\n",
    "\n",
    "# print(most_similar_users_to(1))"
   ]
  },
  {
   "cell_type": "markdown",
   "metadata": {},
   "source": [
    "#### User suggestions "
   ]
  },
  {
   "cell_type": "code",
   "execution_count": 108,
   "metadata": {
    "collapsed": false
   },
   "outputs": [],
   "source": [
    "def user_based_suggestions(real_user, k):\n",
    "    suggestions = {}\n",
    "    \n",
    "    user = 0\n",
    "    for key,v in user_index.items():\n",
    "        if real_user in v:\n",
    "            user = key\n",
    "            \n",
    "    for user_id, similarity in most_similar_users_to(user):\n",
    "        index = user_index[user_id]\n",
    "        news = users_interests_train[index]\n",
    "        for interest in news:\n",
    "            if suggestions.has_key(interest):\n",
    "                suggestions[interest] = suggestions.get(interest) + similarity\n",
    "            else:\n",
    "                suggestions[interest] = similarity\n",
    "                \n",
    "    suggestions = sorted(suggestions.items(), key=lambda x: x[1], reverse=True)\n",
    "#     print(len(suggestions))\n",
    "    \n",
    "    final_suggestions = []\n",
    "    index_user = user_index[user]\n",
    "    for a,_ in suggestions:\n",
    "        if a not in users_interests_train[index_user]:\n",
    "              final_suggestions.append(a)\n",
    "    \n",
    "#     print(len(final_suggestions))\n",
    "    return final_suggestions[:k]\n",
    "\n",
    "# user_based_suggestions('5571a31f1700007a08aac810', 10)"
   ]
  },
  {
   "cell_type": "code",
   "execution_count": 112,
   "metadata": {
    "collapsed": false
   },
   "outputs": [],
   "source": [
    "sr = 0.0\n",
    "for user in users_interests:\n",
    "    size = len(users_interests_test[user])\n",
    "    ru = set(user_based_suggestions(user, size))\n",
    "    tu = set(users_interests_test[user])\n",
    "    \n",
    "    pu = len(ru.union(tu))/float(len(tu))\n",
    "    sr = sr + pu "
   ]
  },
  {
   "cell_type": "code",
   "execution_count": 111,
   "metadata": {
    "collapsed": false
   },
   "outputs": [
    {
     "name": "stdout",
     "output_type": "stream",
     "text": [
      "Indice de precisao geral\n",
      "1.47288693232\n"
     ]
    }
   ],
   "source": [
    "print \"Indice de precisao geral\"\n",
    "print sr/len(users_interests)"
   ]
  }
 ],
 "metadata": {
  "kernelspec": {
   "display_name": "Python 2",
   "language": "python",
   "name": "python2"
  },
  "language_info": {
   "codemirror_mode": {
    "name": "ipython",
    "version": 2
   },
   "file_extension": ".py",
   "mimetype": "text/x-python",
   "name": "python",
   "nbconvert_exporter": "python",
   "pygments_lexer": "ipython2",
   "version": "2.7.5"
  }
 },
 "nbformat": 4,
 "nbformat_minor": 1
}
